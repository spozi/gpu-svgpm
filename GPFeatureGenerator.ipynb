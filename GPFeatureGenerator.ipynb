{
  "nbformat": 4,
  "nbformat_minor": 0,
  "metadata": {
    "colab": {
      "name": "GPFeatureGenerator.ipynb",
      "provenance": [],
      "collapsed_sections": [],
      "authorship_tag": "ABX9TyN72PYOAeyBcQosRDGry0aW",
      "include_colab_link": true
    },
    "kernelspec": {
      "display_name": "Python 3",
      "name": "python3"
    },
    "language_info": {
      "name": "python"
    }
  },
  "cells": [
    {
      "cell_type": "markdown",
      "metadata": {
        "id": "view-in-github",
        "colab_type": "text"
      },
      "source": [
        "<a href=\"https://colab.research.google.com/github/spozi/gpu-svgpm/blob/main/GPFeatureGenerator.ipynb\" target=\"_parent\"><img src=\"https://colab.research.google.com/assets/colab-badge.svg\" alt=\"Open In Colab\"/></a>"
      ]
    },
    {
      "cell_type": "code",
      "metadata": {
        "colab": {
          "base_uri": "https://localhost:8080/"
        },
        "id": "R_ZEI1ZknHnT",
        "outputId": "fe445785-2b7f-4a05-a678-74489678a5c3"
      },
      "source": [
        "!pip install -U deap imbalanced-learn scikit-learn-intelex"
      ],
      "execution_count": 13,
      "outputs": [
        {
          "output_type": "stream",
          "text": [
            "Requirement already satisfied: deap in /usr/local/lib/python3.7/dist-packages (1.3.1)\n",
            "Requirement already satisfied: imbalanced-learn in /usr/local/lib/python3.7/dist-packages (0.8.0)\n",
            "Requirement already satisfied: scikit-learn-intelex in /usr/local/lib/python3.7/dist-packages (2021.3.0)\n",
            "Requirement already satisfied: numpy in /usr/local/lib/python3.7/dist-packages (from deap) (1.19.5)\n",
            "Requirement already satisfied: scikit-learn>=0.24 in /usr/local/lib/python3.7/dist-packages (from imbalanced-learn) (0.24.2)\n",
            "Requirement already satisfied: scipy>=0.19.1 in /usr/local/lib/python3.7/dist-packages (from imbalanced-learn) (1.4.1)\n",
            "Requirement already satisfied: joblib>=0.11 in /usr/local/lib/python3.7/dist-packages (from imbalanced-learn) (1.0.1)\n",
            "Requirement already satisfied: threadpoolctl>=2.0.0 in /usr/local/lib/python3.7/dist-packages (from scikit-learn>=0.24->imbalanced-learn) (2.2.0)\n",
            "Requirement already satisfied: daal4py==2021.3.0 in /usr/local/lib/python3.7/dist-packages (from scikit-learn-intelex) (2021.3.0)\n",
            "Requirement already satisfied: daal==2021.3.0 in /usr/local/lib/python3.7/dist-packages (from daal4py==2021.3.0->scikit-learn-intelex) (2021.3.0)\n",
            "Requirement already satisfied: tbb==2021.* in /usr/local/lib/python3.7/dist-packages (from daal==2021.3.0->daal4py==2021.3.0->scikit-learn-intelex) (2021.3.0)\n"
          ],
          "name": "stdout"
        }
      ]
    },
    {
      "cell_type": "code",
      "metadata": {
        "colab": {
          "base_uri": "https://localhost:8080/"
        },
        "id": "irgcpLpFBF-3",
        "outputId": "c94aabf0-450f-485c-cd46-bee818c4f37e"
      },
      "source": [
        "import sys\n",
        "import os\n",
        "import site\n",
        "sys.path.append(os.path.join(os.path.dirname(site.getsitepackages()[0]), \"site-packages\"))\n",
        "\n",
        "from sklearnex import patch_sklearn\n",
        "patch_sklearn()"
      ],
      "execution_count": 14,
      "outputs": [
        {
          "output_type": "stream",
          "text": [
            "Intel(R) Extension for Scikit-learn* enabled (https://github.com/intel/scikit-learn-intelex)\n"
          ],
          "name": "stderr"
        }
      ]
    },
    {
      "cell_type": "code",
      "metadata": {
        "id": "ASNSiD1zsUJ8"
      },
      "source": [
        "#@title SVGPM Configuration\n",
        "#@markdown ---\n",
        "#@markdown ### Enter a file path:\n",
        "train_file_path = \"/content/train_car_eval_4.csv\" #@param {type:\"string\"}\n",
        "test_file_path = \"/content/test_car_eval_4.csv\" #@param {type:\"string\"}\n",
        "\n",
        "#@markdown ---\n",
        "#@markdown ### Enter SVGPM Parameters:\n",
        "population_size = 200 #@param {type:\"slider\", min:0, max:1000, step:2}\n",
        "number_of_generation = 200 #@param {type:\"slider\", min:0, max:1000, step:2}\n",
        "\n",
        "#@markdown ### Enter 2^C and 2^Gamma Parameter:\n",
        "C = 2 #@param {type:\"slider\", min:-10, max:10, step:1}\n",
        "gamma = 0 #@param {type:\"slider\", min:-10, max:10, step:1}\n",
        "#@markdown ---\n"
      ],
      "execution_count": 15,
      "outputs": []
    },
    {
      "cell_type": "code",
      "metadata": {
        "id": "XjaiCtAhnPHP"
      },
      "source": [
        "from collections import Counter\n",
        "\n",
        "import pandas as pd\n",
        "import numpy as np\n",
        "\n",
        "from sklearn.preprocessing import MinMaxScaler\n",
        "scaler = MinMaxScaler()\n",
        "\n",
        "#Train and test file\n",
        "train_file = train_file_path\n",
        "test_file = test_file_path\n",
        "\n",
        "train_data = np.loadtxt(train_file, delimiter=\",\", skiprows=1)\n",
        "test_data = np.loadtxt(test_file, delimiter=\",\", skiprows=1)\n",
        "\n",
        "X_train = train_data[:, 1:]\n",
        "X_test = test_data[:, 1:]\n",
        "\n",
        "#Scale each feature to 0 and 1\n",
        "X_train = scaler.fit_transform(X_train)\n",
        "X_test = scaler.transform(X_test)\n",
        "\n",
        "#y_train\n",
        "y_train = train_data[:, 0].astype(int)\n",
        "y_test = test_data[:, 0].astype(int)\n",
        "\n",
        "#Compute class weight\n",
        "unique, counts = np.unique(y_train, return_counts=True)\n",
        "pos_index = 0\n",
        "neg_index = 0\n",
        "\n",
        "class_weight = {}\n",
        "if counts[0] < counts[1]:\n",
        "  class_weight = {unique[0]: counts[1], unique[1]: counts[0]}\n",
        "else:\n",
        "  class_weight = {unique[1]: counts[0], unique[0]: counts[1]}"
      ],
      "execution_count": 16,
      "outputs": []
    },
    {
      "cell_type": "code",
      "metadata": {
        "colab": {
          "base_uri": "https://localhost:8080/"
        },
        "id": "_6GNqTO0nnRv",
        "outputId": "a529c866-582e-4333-8e83-bb6aabafce50"
      },
      "source": [
        "print(unique, counts, class_weight)"
      ],
      "execution_count": 17,
      "outputs": [
        {
          "output_type": "stream",
          "text": [
            "[-1  1] [1116   40] {1: 1116, -1: 40}\n"
          ],
          "name": "stdout"
        }
      ]
    },
    {
      "cell_type": "markdown",
      "metadata": {
        "id": "0n4G13-SRMp2"
      },
      "source": [
        "Version 2 GP Feature Generator"
      ]
    },
    {
      "cell_type": "code",
      "metadata": {
        "id": "5UpoPcmQMMda",
        "colab": {
          "base_uri": "https://localhost:8080/",
          "height": 381
        },
        "outputId": "3fa06046-07cb-4713-bc5e-55791a971a16"
      },
      "source": [
        "import random\n",
        "import operator\n",
        "import math\n",
        "import statistics\n",
        "\n",
        "import numpy as np\n",
        "\n",
        "from deap import algorithms\n",
        "from deap import base\n",
        "from deap import creator\n",
        "from deap import tools\n",
        "from deap import gp\n",
        "\n",
        "# Define new functions\n",
        "def protectedDiv(left, right):\n",
        "    try:\n",
        "        return left / right\n",
        "    except ZeroDivisionError:\n",
        "        return 1\n",
        "\n",
        "nFeatures = X_train.data.shape[1]\n",
        "pset = gp.PrimitiveSet(\"MAIN\", nFeatures) \n",
        "pset.addPrimitive(operator.add, 2)\n",
        "pset.addPrimitive(operator.sub, 2)\n",
        "pset.addPrimitive(operator.mul, 2)\n",
        "pset.addPrimitive(protectedDiv, 2)\n",
        "pset.addPrimitive(operator.neg, 1)\n",
        "pset.addPrimitive(math.erfc, 1)\n",
        "pset.addPrimitive(math.gamma, 1)\n",
        "pset.addPrimitive(math.erf, 1)\n",
        "pset.addPrimitive(math.exp, 1)\n",
        "pset.addPrimitive(math.sqrt, 1)\n",
        "pset.addPrimitive(math.cos, 1)\n",
        "pset.addPrimitive(math.sin, 1)\n",
        "pset.addEphemeralConstant(\"rand1\", lambda: round(random.uniform(0.1, 1.0), 4))\n",
        "\n",
        "creator.create(\"FitnessMax\", base.Fitness, weights=(1.0, ))\n",
        "creator.create(\"Tree\", gp.PrimitiveTree)\n",
        "creator.create(\"Individual\", list, fitness=creator.FitnessMax)\n",
        "\n",
        "toolbox = base.Toolbox()\n",
        "toolbox.register(\"main_expr\", gp.genHalfAndHalf, pset=pset, min_=1, max_=5)\n",
        "toolbox.register('MAIN', tools.initIterate, creator.Tree, toolbox.main_expr)\n",
        "\n",
        "func_cycle = [toolbox.MAIN]\n",
        "\n",
        "toolbox.register(\"individual\", tools.initCycle, creator.Individual, func_cycle)\n",
        "toolbox.register(\"population\", tools.initRepeat, list, toolbox.individual)"
      ],
      "execution_count": 18,
      "outputs": [
        {
          "output_type": "error",
          "ename": "Exception",
          "evalue": "ignored",
          "traceback": [
            "\u001b[0;31m---------------------------------------------------------------------------\u001b[0m",
            "\u001b[0;31mException\u001b[0m                                 Traceback (most recent call last)",
            "\u001b[0;32m<ipython-input-18-49225f09d784>\u001b[0m in \u001b[0;36m<module>\u001b[0;34m()\u001b[0m\n\u001b[1;32m     33\u001b[0m \u001b[0mpset\u001b[0m\u001b[0;34m.\u001b[0m\u001b[0maddPrimitive\u001b[0m\u001b[0;34m(\u001b[0m\u001b[0mmath\u001b[0m\u001b[0;34m.\u001b[0m\u001b[0mcos\u001b[0m\u001b[0;34m,\u001b[0m \u001b[0;36m1\u001b[0m\u001b[0;34m)\u001b[0m\u001b[0;34m\u001b[0m\u001b[0;34m\u001b[0m\u001b[0m\n\u001b[1;32m     34\u001b[0m \u001b[0mpset\u001b[0m\u001b[0;34m.\u001b[0m\u001b[0maddPrimitive\u001b[0m\u001b[0;34m(\u001b[0m\u001b[0mmath\u001b[0m\u001b[0;34m.\u001b[0m\u001b[0msin\u001b[0m\u001b[0;34m,\u001b[0m \u001b[0;36m1\u001b[0m\u001b[0;34m)\u001b[0m\u001b[0;34m\u001b[0m\u001b[0;34m\u001b[0m\u001b[0m\n\u001b[0;32m---> 35\u001b[0;31m \u001b[0mpset\u001b[0m\u001b[0;34m.\u001b[0m\u001b[0maddEphemeralConstant\u001b[0m\u001b[0;34m(\u001b[0m\u001b[0;34m\"rand1\"\u001b[0m\u001b[0;34m,\u001b[0m \u001b[0;32mlambda\u001b[0m\u001b[0;34m:\u001b[0m \u001b[0mround\u001b[0m\u001b[0;34m(\u001b[0m\u001b[0mrandom\u001b[0m\u001b[0;34m.\u001b[0m\u001b[0muniform\u001b[0m\u001b[0;34m(\u001b[0m\u001b[0;36m0.1\u001b[0m\u001b[0;34m,\u001b[0m \u001b[0;36m1.0\u001b[0m\u001b[0;34m)\u001b[0m\u001b[0;34m,\u001b[0m \u001b[0;36m4\u001b[0m\u001b[0;34m)\u001b[0m\u001b[0;34m)\u001b[0m\u001b[0;34m\u001b[0m\u001b[0;34m\u001b[0m\u001b[0m\n\u001b[0m\u001b[1;32m     36\u001b[0m \u001b[0;34m\u001b[0m\u001b[0m\n\u001b[1;32m     37\u001b[0m \u001b[0mcreator\u001b[0m\u001b[0;34m.\u001b[0m\u001b[0mcreate\u001b[0m\u001b[0;34m(\u001b[0m\u001b[0;34m\"FitnessMax\"\u001b[0m\u001b[0;34m,\u001b[0m \u001b[0mbase\u001b[0m\u001b[0;34m.\u001b[0m\u001b[0mFitness\u001b[0m\u001b[0;34m,\u001b[0m \u001b[0mweights\u001b[0m\u001b[0;34m=\u001b[0m\u001b[0;34m(\u001b[0m\u001b[0;36m1.0\u001b[0m\u001b[0;34m,\u001b[0m \u001b[0;34m)\u001b[0m\u001b[0;34m)\u001b[0m\u001b[0;34m\u001b[0m\u001b[0;34m\u001b[0m\u001b[0m\n",
            "\u001b[0;32m/usr/local/lib/python3.7/dist-packages/deap/gp.py\u001b[0m in \u001b[0;36maddEphemeralConstant\u001b[0;34m(self, name, ephemeral)\u001b[0m\n\u001b[1;32m    452\u001b[0m     \u001b[0;32mdef\u001b[0m \u001b[0maddEphemeralConstant\u001b[0m\u001b[0;34m(\u001b[0m\u001b[0mself\u001b[0m\u001b[0;34m,\u001b[0m \u001b[0mname\u001b[0m\u001b[0;34m,\u001b[0m \u001b[0mephemeral\u001b[0m\u001b[0;34m)\u001b[0m\u001b[0;34m:\u001b[0m\u001b[0;34m\u001b[0m\u001b[0;34m\u001b[0m\u001b[0m\n\u001b[1;32m    453\u001b[0m         \u001b[0;34m\"\"\"Add an ephemeral constant to the set.\"\"\"\u001b[0m\u001b[0;34m\u001b[0m\u001b[0;34m\u001b[0m\u001b[0m\n\u001b[0;32m--> 454\u001b[0;31m         \u001b[0mPrimitiveSetTyped\u001b[0m\u001b[0;34m.\u001b[0m\u001b[0maddEphemeralConstant\u001b[0m\u001b[0;34m(\u001b[0m\u001b[0mself\u001b[0m\u001b[0;34m,\u001b[0m \u001b[0mname\u001b[0m\u001b[0;34m,\u001b[0m \u001b[0mephemeral\u001b[0m\u001b[0;34m,\u001b[0m \u001b[0m__type__\u001b[0m\u001b[0;34m)\u001b[0m\u001b[0;34m\u001b[0m\u001b[0;34m\u001b[0m\u001b[0m\n\u001b[0m\u001b[1;32m    455\u001b[0m \u001b[0;34m\u001b[0m\u001b[0m\n\u001b[1;32m    456\u001b[0m \u001b[0;34m\u001b[0m\u001b[0m\n",
            "\u001b[0;32m/usr/local/lib/python3.7/dist-packages/deap/gp.py\u001b[0m in \u001b[0;36maddEphemeralConstant\u001b[0;34m(self, name, ephemeral, ret_type)\u001b[0m\n\u001b[1;32m    398\u001b[0m             \u001b[0;32mif\u001b[0m \u001b[0missubclass\u001b[0m\u001b[0;34m(\u001b[0m\u001b[0mclass_\u001b[0m\u001b[0;34m,\u001b[0m \u001b[0mEphemeral\u001b[0m\u001b[0;34m)\u001b[0m\u001b[0;34m:\u001b[0m\u001b[0;34m\u001b[0m\u001b[0;34m\u001b[0m\u001b[0m\n\u001b[1;32m    399\u001b[0m                 \u001b[0;32mif\u001b[0m \u001b[0mclass_\u001b[0m\u001b[0;34m.\u001b[0m\u001b[0mfunc\u001b[0m \u001b[0;32mis\u001b[0m \u001b[0;32mnot\u001b[0m \u001b[0mephemeral\u001b[0m\u001b[0;34m:\u001b[0m\u001b[0;34m\u001b[0m\u001b[0;34m\u001b[0m\u001b[0m\n\u001b[0;32m--> 400\u001b[0;31m                     raise Exception(\"Ephemerals with different functions should \"\n\u001b[0m\u001b[1;32m    401\u001b[0m                                     \"be named differently, even between psets.\")\n\u001b[1;32m    402\u001b[0m                 \u001b[0;32melif\u001b[0m \u001b[0mclass_\u001b[0m\u001b[0;34m.\u001b[0m\u001b[0mret\u001b[0m \u001b[0;32mis\u001b[0m \u001b[0;32mnot\u001b[0m \u001b[0mret_type\u001b[0m\u001b[0;34m:\u001b[0m\u001b[0;34m\u001b[0m\u001b[0;34m\u001b[0m\u001b[0m\n",
            "\u001b[0;31mException\u001b[0m: Ephemerals with different functions should be named differently, even between psets."
          ]
        }
      ]
    },
    {
      "cell_type": "code",
      "metadata": {
        "id": "71GGjz4mQ9SS"
      },
      "source": [
        "from sklearn.ensemble import ExtraTreesClassifier\n",
        "from sklearn.feature_selection import SelectFromModel\n",
        "from sklearn.tree import DecisionTreeClassifier\n",
        "from sklearn.decomposition import KernelPCA\n",
        "from sklearn.feature_selection import SelectKBest, chi2, SelectPercentile\n",
        "from sklearn.svm import SVC\n",
        "from sklearn.metrics import f1_score, accuracy_score, confusion_matrix\n",
        "from multiprocessing import Pool\n",
        "\n",
        "from time import time\n",
        "\n",
        "\n",
        "import warnings\n",
        "warnings.filterwarnings(\"ignore\")\n",
        "\n",
        "def evalSymbReg(score):\n",
        "  return score, \n",
        "\n",
        "def evalSymbRegPop(population):\n",
        "  # Evaluate each individual in population\n",
        "  #1. Compute the expression of every individual\n",
        "  list_vecs = []\n",
        "  # start = time()\n",
        "  for individual in population:\n",
        "    #Evaluating expression on each vector\n",
        "    func = toolbox.compile(expr=individual)\n",
        "    vec = []\n",
        "    for x in X_train: #Iterate every vector x (row) in data (matrix) X\n",
        "      try:\n",
        "        val = func(*x)\n",
        "        vec.append(val)\n",
        "      except:\n",
        "        vec.append(0)\n",
        "    list_vecs.append(vec)\n",
        "  end = time()\n",
        "  # expression_evaluation_time = end - start\n",
        "\n",
        "  #2. Convert list_vecs to numpy array\n",
        "  evaluated_X = np.array(list_vecs).T\n",
        "  evaluated_X = np.float32(evaluated_X)\n",
        "  evaluated_X = np.nan_to_num(evaluated_X, copy=True, nan=0.0, posinf=0.0, neginf=0.0)\n",
        "  evaluated_X_train = np.hstack((X_train, evaluated_X)) #Merge x_train with evaluated_x\n",
        "\n",
        "  #3. Individual (feature) selection\n",
        "  # https://scikit-learn.org/stable/modules/feature_selection.html#feature-selection-using-selectfrommodel\n",
        "\n",
        "  # start = time()\n",
        "  clf = ExtraTreesClassifier(n_estimators=50)\n",
        "  clf = clf.fit(evaluated_X_train, y_train)\n",
        "\n",
        "  #4. Extract features that at top threshold (get the 50 percentile)\n",
        "  q1 = np.percentile(clf.feature_importances_, 50)                                        #Get the top 50 percentile features\n",
        "  features = [True if val >= q1 else False for val in clf.feature_importances_.tolist()]  #Get the features indices\n",
        "  features = features[X_train.shape[1]:]                                                  #Extract GP Features from all features\n",
        "  X_train_new = evaluated_X[:, features]                                                  #Form a new training data with GP Features\n",
        "  # end = time()\n",
        "  # feature_evaluation_time = end - start\n",
        "\n",
        "  #5. Merge X_train with X_train_new row-wise\n",
        "  X_train_new = np.hstack((X_train, X_train_new))                                         #Merge back original training data with new GP based training data\n",
        "\n",
        "  #6. Use svc to get total nSV\n",
        "  # start = time()\n",
        "  clf_svc = SVC(C=2**C, gamma=2**gamma, class_weight=class_weight)      #Based on original paper \n",
        "  clf_svc.fit(X_train_new, y_train)                                     #98% of runtime is at here\n",
        "  # end = time()\n",
        "  # svm_training_time = end - start\n",
        "\n",
        "  # print(\"Expression evaluation: %.4f, Feature evaluation: %.4f, SVM training: %.4f\" % (expression_evaluation_time, feature_evaluation_time, svm_training_time))\n",
        "\n",
        "  y_pred = clf_svc.predict(X_train_new)\n",
        "\n",
        "  #7. Compute the score\n",
        "  nSV = clf_svc.support_vectors_.shape[0]\n",
        "  tn, fp, fn, tp = confusion_matrix(y_train, y_pred).ravel()\n",
        "  f1 = f1_score(y_train, y_pred)\n",
        "  accuracy = accuracy_score(y_train, y_pred)\n",
        "  specificity = tp / (tp + fn)\n",
        "  sensititivy = tn / (tn + fp)\n",
        "  gmean = math.sqrt(specificity * sensititivy)\n",
        "  fitness = min(gmean,accuracy)/nSV                    #This is single objective fitness function (based on original paper)\n",
        "  # fitness = (min(gmean,accuracy), min(gmean,accuracy)/nSV)            #This is new multi-objective fitness function\n",
        "\n",
        "  #8. Output the fitness value\n",
        "  ind_pop_fitness = []\n",
        "  for f in features:\n",
        "    if f is True:\n",
        "      ind_pop_fitness.append(fitness)     #If the feature is in the tree, set the fitness value to fitness\n",
        "    else:\n",
        "      ind_pop_fitness.append(0)       #If the feature is in the tree, set the fitness value to 0\n",
        "      # ind_pop_fitness.append((0,0))       #If the feature is in the tree, set the fitness value to 0\n",
        "  \n",
        "  return ind_pop_fitness\n",
        "\n",
        "psets = [pset]\n",
        "toolbox.register(\"compile\", gp.compileADF, psets=psets)\n",
        "toolbox.register('evaluate', evalSymbReg)\n",
        "toolbox.register('select', tools.selTournament, tournsize=3)\n",
        "toolbox.register('mate', gp.cxOnePoint)\n",
        "toolbox.register(\"expr\", gp.genFull, min_=1, max_=2)\n",
        "toolbox.register('mutate', gp.mutUniform, expr=toolbox.expr)\n",
        "\n",
        "toolbox.decorate(\"mate\", gp.staticLimit(key=operator.attrgetter(\"height\"), max_value=70))\n",
        "toolbox.decorate(\"mutate\", gp.staticLimit(key=operator.attrgetter(\"height\"), max_value=70))"
      ],
      "execution_count": null,
      "outputs": []
    },
    {
      "cell_type": "code",
      "metadata": {
        "id": "5_7HXCBEMQmU"
      },
      "source": [
        "def main():\n",
        "  random.seed(1024)\n",
        "  ind = toolbox.individual()\n",
        "  \n",
        "  pop = toolbox.population(n=population_size)\n",
        "  hof = tools.HallOfFame(population_size)\n",
        "  stats = tools.Statistics(lambda ind: ind.fitness.values)\n",
        "  stats.register(\"avg\", np.mean)\n",
        "  stats.register(\"std\", np.std)\n",
        "  stats.register(\"min\", np.min)\n",
        "  stats.register(\"max\", np.max)\n",
        "\n",
        "  logbook = tools.Logbook()\n",
        "  logbook.header = \"gen\", \"evals\", \"std\", \"min\", \"avg\", \"max\"\n",
        "\n",
        "  CXPB, MUTPB, NGEN = 0.5, 0.2, number_of_generation\n",
        "\n",
        "  # # Evaluate the entire population\n",
        "  #1. Compute the metric on the set of individuals\n",
        "  ind_pop_fitness = evalSymbRegPop(pop)\n",
        "\n",
        "  #2. Then, determine the best individual using toolbox\n",
        "  for ind, fitness in zip(pop, ind_pop_fitness):\n",
        "    ind.fitness.values = toolbox.evaluate(fitness)\n",
        "\n",
        "  hof.update(pop)\n",
        "  record = stats.compile(pop)\n",
        "  logbook.record(gen=0, evals=len(pop), **record)\n",
        "  print(logbook.stream)\n",
        "\n",
        "  for g in range(1, NGEN):\n",
        "    # Select the offspring\n",
        "    offspring = toolbox.select(pop, len(pop))\n",
        "    # Clone the offspring\n",
        "    offspring = [toolbox.clone(ind) for ind in offspring]\n",
        "\n",
        "    # Apply crossover and mutation\n",
        "    for ind1, ind2 in zip(offspring[::2], offspring[1::2]):\n",
        "        for tree1, tree2 in zip(ind1, ind2):\n",
        "            if random.random() < CXPB:\n",
        "                toolbox.mate(tree1, tree2)\n",
        "                del ind1.fitness.values\n",
        "                del ind2.fitness.values\n",
        "\n",
        "    for ind in offspring:\n",
        "        for tree, pset in zip(ind, psets):\n",
        "            if random.random() < MUTPB:\n",
        "                toolbox.mutate(individual=tree, pset=pset)\n",
        "                del ind.fitness.values\n",
        "                        \n",
        "    # Evaluate the individuals with an invalid fitness\n",
        "    invalids = [ind for ind in offspring if not ind.fitness.valid]\n",
        "\n",
        "    #1. Compute the metric on the set of individuals\n",
        "    ind_pop_invalid_fitness = evalSymbRegPop(invalids)\n",
        "\n",
        "    #2. Then, determine the best individual using toolbox\n",
        "    for ind, fitness in zip(invalids, ind_pop_invalid_fitness):\n",
        "      ind.fitness.values = toolbox.evaluate(fitness)\n",
        "            \n",
        "    # Replacement of the population by the offspring\n",
        "    pop = offspring\n",
        "    hof.update(pop)\n",
        "    record = stats.compile(pop)\n",
        "    logbook.record(gen=g, evals=len(invalids), **record)\n",
        "    print(logbook.stream)\n",
        "  \n",
        "  # print('Best individual : ', hof[0][0], hof[0].fitness)\n",
        "  return pop, stats, hof\n",
        "\n",
        "if __name__ == \"__main__\":\n",
        "    pop, stats, hof = main()"
      ],
      "execution_count": null,
      "outputs": []
    },
    {
      "cell_type": "markdown",
      "metadata": {
        "id": "wc-wqAxoT45D"
      },
      "source": [
        "**Prediction task**\n",
        "\n",
        "1.   Create new data from the list of fittest individual (fittest features) for both training and testing data.\n",
        "2.   Fit the svm with transformed training data\n",
        "3.   Predict the transformed testing data\n",
        "\n"
      ]
    },
    {
      "cell_type": "code",
      "metadata": {
        "id": "yRyeLuWSrGwr"
      },
      "source": [
        "#1. Evaluate the expression for training set\n",
        "list_train_vecs = []\n",
        "max_value_fit1 = max([individual.fitness.values[0] for individual in hof])\n",
        "# max_value_fit2 = max([individual.fitness.values[1] for individual in hof])\n",
        "\n",
        "for individual in hof:\n",
        "  if individual.fitness.values[0] == max_value_fit1:\n",
        "      func = toolbox.compile(expr=individual)\n",
        "      vec = []\n",
        "      for x_train in X_train: #Iterate every vector x (row) in data (matrix) X\n",
        "        try:\n",
        "          val = func(*x_train)\n",
        "          vec.append(val)\n",
        "        except:\n",
        "          vec.append(0)\n",
        "      list_train_vecs.append(vec)\n",
        "\n",
        "#2. Evaluate the expression for testing set\n",
        "list_test_vecs = []\n",
        "for individual in hof:\n",
        "  if individual.fitness.values[0] == max_value_fit1:\n",
        "      func = toolbox.compile(expr=individual)\n",
        "      vec = []\n",
        "      for x_test in X_test: #Iterate every vector x (row) in data (matrix) X\n",
        "        try:\n",
        "          val = func(*x_test)\n",
        "          vec.append(val)\n",
        "        except:\n",
        "          vec.append(0)\n",
        "      list_test_vecs.append(vec)\n",
        "\n",
        "#3. Convert list_vecs to numpy array\n",
        "X_train_new = np.array(list_train_vecs).T   #Need to refactor X_train g\n",
        "X_train_new = np.nan_to_num(X_train_new, copy=True, nan=0.0, posinf=0.0, neginf=0.0)\n",
        "X_train_new = np.hstack((X_train, X_train_new))\n",
        "\n",
        "X_test_new = np.array(list_test_vecs).T   #Need to refactor X_test g\n",
        "X_test_new = np.nan_to_num(X_test_new, copy=True, nan=0.0, posinf=0.0, neginf=0.0)\n",
        "X_test_new = np.hstack((X_test, X_test_new))"
      ],
      "execution_count": null,
      "outputs": []
    },
    {
      "cell_type": "code",
      "metadata": {
        "id": "N_CnWmUscRHR"
      },
      "source": [
        "#Evaluation\n",
        "#1. Fit the SVM\n",
        "list_accuracy_result = []\n",
        "list_f1_result = []\n",
        "for c in range(-5,6):\n",
        "  for g in range(-4,6):\n",
        "    clf_svc = SVC(C=2**c, gamma=2**g, class_weight=class_weight)\n",
        "    clf_svc.fit(X_train, y_train)\n",
        "    y_pred = clf_svc.predict(X_test)\n",
        "    accuracy = accuracy_score(y_test, y_pred)\n",
        "    list_accuracy_result.append(accuracy)\n",
        "    f1 = f1_score(y_test, y_pred)\n",
        "    list_f1_result.append(f1)\n",
        "\n",
        "print(\"SVM - Highest Accuracy-Score: \", max(list_accuracy_result))\n",
        "print(\"SVM - Highest F1-Score: \", max(list_f1_result))\n",
        "\n",
        "#2. Fit the SVM\n",
        "list_accuracy_result = []\n",
        "list_f1_result = []\n",
        "for c in range(-5,6):\n",
        "  for g in range(-4,6):\n",
        "    clf_svc = SVC(C=2**c, gamma=2**g)\n",
        "    clf_svc.fit(X_train, y_train)\n",
        "    y_pred = clf_svc.predict(X_test)\n",
        "    accuracy = accuracy_score(y_test, y_pred)\n",
        "    list_accuracy_result.append(accuracy)\n",
        "    f1 = f1_score(y_test, y_pred)\n",
        "    list_f1_result.append(f1)\n",
        "\n",
        "print(\"SVM - Highest Accuracy-Score (wo weight): \", max(list_accuracy_result))\n",
        "print(\"SVM - Highest F1-Score (wo weight): \", max(list_f1_result))\n",
        "\n",
        "\n",
        "\n",
        "#3. Fit the SVM (SVGPM)\n",
        "list_accuracy_result = []\n",
        "list_f1_result = []\n",
        "for c in range(-5,6):\n",
        "  for g in range(-4,6):\n",
        "    clf_svc = SVC(C=2**c, gamma=2**g, class_weight=class_weight)\n",
        "    clf_svc.fit(X_train_new, y_train)\n",
        "    y_pred = clf_svc.predict(X_test_new)\n",
        "    accuracy = accuracy_score(y_test, y_pred)\n",
        "    list_accuracy_result.append(accuracy)\n",
        "    f1 = f1_score(y_test, y_pred)\n",
        "    list_f1_result.append(f1)\n",
        "\n",
        "print(\"SVGPM V2 - Highest Accuracy-Score: \", max(list_accuracy_result))\n",
        "print(\"SVGPM V2 - Highest F1-Score: \", max(list_f1_result))\n",
        "\n",
        "#4. Fit the SVM (SVGPM)\n",
        "list_accuracy_result = []\n",
        "list_f1_result = []\n",
        "for c in range(-5,6):\n",
        "  for g in range(-4,6):\n",
        "    clf_svc = SVC(C=2**c, gamma=2**g)\n",
        "    clf_svc.fit(X_train_new, y_train)\n",
        "    y_pred = clf_svc.predict(X_test_new)\n",
        "    accuracy = accuracy_score(y_test, y_pred)\n",
        "    list_accuracy_result.append(accuracy)\n",
        "    f1 = f1_score(y_test, y_pred)\n",
        "    list_f1_result.append(f1)\n",
        "\n",
        "print(\"SVGPM V2 (wo weight) - Highest Accuracy-Score: \", max(list_accuracy_result))\n",
        "print(\"SVGPM V2 (wo weight)  - Highest F1-Score: \", max(list_f1_result))"
      ],
      "execution_count": null,
      "outputs": []
    }
  ]
}